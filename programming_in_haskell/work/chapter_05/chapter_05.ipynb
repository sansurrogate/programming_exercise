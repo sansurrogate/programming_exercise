{
 "cells": [
  {
   "cell_type": "markdown",
   "id": "gothic-david",
   "metadata": {},
   "source": [
    "# リスト内包表記"
   ]
  },
  {
   "cell_type": "markdown",
   "id": "according-accreditation",
   "metadata": {},
   "source": [
    "## 基本"
   ]
  },
  {
   "cell_type": "code",
   "execution_count": 1,
   "id": "quality-shoot",
   "metadata": {},
   "outputs": [
    {
     "data": {
      "text/plain": [
       "[1,4,9,16,25]"
      ]
     },
     "metadata": {},
     "output_type": "display_data"
    }
   ],
   "source": [
    "[x^2 | x <- [1..5]]"
   ]
  },
  {
   "cell_type": "code",
   "execution_count": 2,
   "id": "orange-penalty",
   "metadata": {},
   "outputs": [
    {
     "data": {
      "text/plain": [
       "[(1,4),(1,5),(2,4),(2,5),(3,4),(3,5)]"
      ]
     },
     "metadata": {},
     "output_type": "display_data"
    }
   ],
   "source": [
    "[(x, y) | x <- [1, 2, 3], y <- [4, 5]]"
   ]
  },
  {
   "cell_type": "code",
   "execution_count": 3,
   "id": "confident-instruction",
   "metadata": {},
   "outputs": [
    {
     "data": {
      "text/plain": [
       "[(1,4),(2,4),(3,4),(1,5),(2,5),(3,5)]"
      ]
     },
     "metadata": {},
     "output_type": "display_data"
    }
   ],
   "source": [
    "[(x, y) | y <- [4, 5], x <- [1, 2, 3]]"
   ]
  },
  {
   "cell_type": "code",
   "execution_count": 4,
   "id": "polar-specification",
   "metadata": {},
   "outputs": [
    {
     "data": {
      "text/plain": [
       "[(1,1),(1,2),(1,3),(2,2),(2,3),(3,3)]"
      ]
     },
     "metadata": {},
     "output_type": "display_data"
    }
   ],
   "source": [
    "[(x, y) | x <- [1..3], y <- [x..3]]"
   ]
  },
  {
   "cell_type": "code",
   "execution_count": 5,
   "id": "lyric-drain",
   "metadata": {},
   "outputs": [
    {
     "data": {
      "text/plain": [
       "[1,3,4,2,5,6,7,8]"
      ]
     },
     "metadata": {},
     "output_type": "display_data"
    }
   ],
   "source": [
    "concat :: [[a]] -> [a]\n",
    "concat xss = [x | xs <- xss, x <- xs]\n",
    "concat [[1, 3, 4], [2, 5], [6, 7, 8]]"
   ]
  },
  {
   "cell_type": "code",
   "execution_count": 6,
   "id": "becoming-valentine",
   "metadata": {},
   "outputs": [
    {
     "data": {
      "text/plain": [
       "[1,2,3,4]"
      ]
     },
     "metadata": {},
     "output_type": "display_data"
    }
   ],
   "source": [
    "firsts :: [(a, b)] -> [a]\n",
    "firsts ps = [x | (x, _) <- ps]\n",
    "firsts [(1, 5), (2, 6), (3, 7), (4, 8)]"
   ]
  },
  {
   "cell_type": "code",
   "execution_count": 7,
   "id": "million-authorization",
   "metadata": {},
   "outputs": [
    {
     "data": {
      "text/plain": [
       "8"
      ]
     },
     "metadata": {},
     "output_type": "display_data"
    }
   ],
   "source": [
    "length :: [a] -> Int\n",
    "length xs = sum [1 | _ <- xs]\n",
    "length [1..8]"
   ]
  },
  {
   "cell_type": "markdown",
   "id": "extraordinary-drove",
   "metadata": {},
   "source": [
    "## ガード"
   ]
  },
  {
   "cell_type": "code",
   "execution_count": 8,
   "id": "static-tourism",
   "metadata": {},
   "outputs": [
    {
     "data": {
      "text/plain": [
       "[2,4,6,8,10]"
      ]
     },
     "metadata": {},
     "output_type": "display_data"
    }
   ],
   "source": [
    "[x | x <- [1..10], even x]"
   ]
  },
  {
   "cell_type": "code",
   "execution_count": 9,
   "id": "patent-faith",
   "metadata": {},
   "outputs": [
    {
     "data": {
      "text/plain": [
       "[(2,2),(2,3),(2,4),(2,5),(2,6),(2,7),(2,8),(2,9),(2,10),(4,4),(4,5),(4,6),(4,7),(4,8),(4,9),(4,10),(6,6),(6,7),(6,8),(6,9),(6,10),(8,8),(8,9),(8,10),(10,10)]"
      ]
     },
     "metadata": {},
     "output_type": "display_data"
    }
   ],
   "source": [
    "[(x, y) | x <- [1..10], even x, y <- [x..10]]"
   ]
  },
  {
   "cell_type": "code",
   "execution_count": 10,
   "id": "spread-valve",
   "metadata": {},
   "outputs": [
    {
     "data": {
      "text/plain": [
       "[1,2,3,4,6,8,12,24]"
      ]
     },
     "metadata": {},
     "output_type": "display_data"
    },
    {
     "data": {
      "text/plain": [
       "[1,3,5,15]"
      ]
     },
     "metadata": {},
     "output_type": "display_data"
    },
    {
     "data": {
      "text/plain": [
       "[1,7]"
      ]
     },
     "metadata": {},
     "output_type": "display_data"
    }
   ],
   "source": [
    "factors :: Int -> [Int]\n",
    "factors n = [x | x <- [1..n], mod n x == 0]\n",
    "factors 24\n",
    "factors 15\n",
    "factors 7"
   ]
  },
  {
   "cell_type": "code",
   "execution_count": 11,
   "id": "worst-dating",
   "metadata": {},
   "outputs": [
    {
     "data": {
      "text/plain": [
       "False"
      ]
     },
     "metadata": {},
     "output_type": "display_data"
    },
    {
     "data": {
      "text/plain": [
       "True"
      ]
     },
     "metadata": {},
     "output_type": "display_data"
    }
   ],
   "source": [
    "prime :: Int -> Bool\n",
    "prime n = factors n == [1, n]\n",
    "prime 15\n",
    "prime 7"
   ]
  },
  {
   "cell_type": "code",
   "execution_count": 12,
   "id": "about-choice",
   "metadata": {},
   "outputs": [
    {
     "data": {
      "text/plain": [
       "[2,3,5,7,11,13,17,19,23,29,31,37,41,43,47,53,59,61,67,71,73,79,83,89,97]"
      ]
     },
     "metadata": {},
     "output_type": "display_data"
    }
   ],
   "source": [
    "primes :: Int -> [Int]\n",
    "primes n = [m | m <- [2..n], prime m]\n",
    "primes 100"
   ]
  },
  {
   "cell_type": "code",
   "execution_count": 13,
   "id": "cross-enough",
   "metadata": {},
   "outputs": [
    {
     "data": {
      "text/plain": [
       "[2,4]"
      ]
     },
     "metadata": {},
     "output_type": "display_data"
    }
   ],
   "source": [
    "find :: Eq a => a -> [(a, b)] -> [b]\n",
    "find k t = [v | (k', v) <- t, k' == k]\n",
    "find 'b' [('a', 1), ('b', 2), ('c', 3), ('b', 4)]"
   ]
  },
  {
   "cell_type": "markdown",
   "id": "confirmed-understanding",
   "metadata": {},
   "source": [
    "## zip"
   ]
  },
  {
   "cell_type": "code",
   "execution_count": 14,
   "id": "restricted-declaration",
   "metadata": {},
   "outputs": [
    {
     "data": {
      "text/plain": [
       "[('a',1),('b',2),('c',3)]"
      ]
     },
     "metadata": {},
     "output_type": "display_data"
    }
   ],
   "source": [
    "zip ['a', 'b', 'c'] [1, 2, 3, 4]"
   ]
  },
  {
   "cell_type": "code",
   "execution_count": 15,
   "id": "reflected-norway",
   "metadata": {},
   "outputs": [
    {
     "data": {
      "text/plain": [
       "[(1,2),(2,3),(3,4),(4,5)]"
      ]
     },
     "metadata": {},
     "output_type": "display_data"
    }
   ],
   "source": [
    "pairs :: [a] -> [(a, a)]\n",
    "pairs xs = zip xs (tail xs)\n",
    "pairs [1..5]"
   ]
  },
  {
   "cell_type": "code",
   "execution_count": 16,
   "id": "vulnerable-blowing",
   "metadata": {},
   "outputs": [
    {
     "data": {
      "text/plain": [
       "True"
      ]
     },
     "metadata": {},
     "output_type": "display_data"
    },
    {
     "data": {
      "text/plain": [
       "False"
      ]
     },
     "metadata": {},
     "output_type": "display_data"
    }
   ],
   "source": [
    "sorted :: Ord a => [a] -> Bool\n",
    "sorted xs = and [a <= b | (a, b) <- pairs xs]\n",
    "sorted [1..5]\n",
    "sorted (6:[1..5])"
   ]
  },
  {
   "cell_type": "code",
   "execution_count": 17,
   "id": "married-harassment",
   "metadata": {},
   "outputs": [
    {
     "data": {
      "text/plain": [
       "[1,3]"
      ]
     },
     "metadata": {},
     "output_type": "display_data"
    }
   ],
   "source": [
    "positions :: Eq a => a -> [a] -> [Int]\n",
    "positions x xs = [i | (i, v) <- zip [0..] xs, v == x]\n",
    "positions False [True, False, True, False]"
   ]
  },
  {
   "cell_type": "code",
   "execution_count": 18,
   "id": "surface-deadline",
   "metadata": {},
   "outputs": [
    {
     "data": {
      "text/plain": [
       "'c'"
      ]
     },
     "metadata": {},
     "output_type": "display_data"
    },
    {
     "data": {
      "text/plain": [
       "\"abc\""
      ]
     },
     "metadata": {},
     "output_type": "display_data"
    },
    {
     "data": {
      "text/plain": [
       "5"
      ]
     },
     "metadata": {},
     "output_type": "display_data"
    },
    {
     "data": {
      "text/plain": [
       "[('a',1),('b',2),('c',3)]"
      ]
     },
     "metadata": {},
     "output_type": "display_data"
    }
   ],
   "source": [
    "\"abcde\" !! 2\n",
    "take 3 \"abcde\"\n",
    "length \"abcde\"\n",
    "zip \"abc\" [1..]"
   ]
  },
  {
   "cell_type": "code",
   "execution_count": 19,
   "id": "scenic-professional",
   "metadata": {},
   "outputs": [
    {
     "data": {
      "text/html": [
       "<style>/* Styles used for the Hoogle display in the pager */\n",
       ".hoogle-doc {\n",
       "display: block;\n",
       "padding-bottom: 1.3em;\n",
       "padding-left: 0.4em;\n",
       "}\n",
       ".hoogle-code {\n",
       "display: block;\n",
       "font-family: monospace;\n",
       "white-space: pre;\n",
       "}\n",
       ".hoogle-text {\n",
       "display: block;\n",
       "}\n",
       ".hoogle-name {\n",
       "color: green;\n",
       "font-weight: bold;\n",
       "}\n",
       ".hoogle-head {\n",
       "font-weight: bold;\n",
       "}\n",
       ".hoogle-sub {\n",
       "display: block;\n",
       "margin-left: 0.4em;\n",
       "}\n",
       ".hoogle-package {\n",
       "font-weight: bold;\n",
       "font-style: italic;\n",
       "}\n",
       ".hoogle-module {\n",
       "font-weight: bold;\n",
       "}\n",
       ".hoogle-class {\n",
       "font-weight: bold;\n",
       "}\n",
       ".get-type {\n",
       "color: green;\n",
       "font-weight: bold;\n",
       "font-family: monospace;\n",
       "display: block;\n",
       "white-space: pre-wrap;\n",
       "}\n",
       ".show-type {\n",
       "color: green;\n",
       "font-weight: bold;\n",
       "font-family: monospace;\n",
       "margin-left: 1em;\n",
       "}\n",
       ".mono {\n",
       "font-family: monospace;\n",
       "display: block;\n",
       "}\n",
       ".err-msg {\n",
       "color: red;\n",
       "font-style: italic;\n",
       "font-family: monospace;\n",
       "white-space: pre;\n",
       "display: block;\n",
       "}\n",
       "#unshowable {\n",
       "color: red;\n",
       "font-weight: bold;\n",
       "}\n",
       ".err-msg.in.collapse {\n",
       "padding-top: 0.7em;\n",
       "}\n",
       ".highlight-code {\n",
       "white-space: pre;\n",
       "font-family: monospace;\n",
       "}\n",
       ".suggestion-warning { \n",
       "font-weight: bold;\n",
       "color: rgb(200, 130, 0);\n",
       "}\n",
       ".suggestion-error { \n",
       "font-weight: bold;\n",
       "color: red;\n",
       "}\n",
       ".suggestion-name {\n",
       "font-weight: bold;\n",
       "}\n",
       "</style><div class=\"suggestion-name\" style=\"clear:both;\">Use isAsciiLower</div><div class=\"suggestion-row\" style=\"float: left;\"><div class=\"suggestion-warning\">Found:</div><div class=\"highlight-code\" id=\"haskell\">c >= 'a' && c <= 'z'</div></div><div class=\"suggestion-row\" style=\"float: left;\"><div class=\"suggestion-warning\">Why Not:</div><div class=\"highlight-code\" id=\"haskell\">isAsciiLower c</div></div>"
      ],
      "text/plain": [
       "Line 2: Use isAsciiLower\n",
       "Found:\n",
       "c >= 'a' && c <= 'z'\n",
       "Why not:\n",
       "isAsciiLower c"
      ]
     },
     "metadata": {},
     "output_type": "display_data"
    },
    {
     "data": {
      "text/plain": [
       "6"
      ]
     },
     "metadata": {},
     "output_type": "display_data"
    },
    {
     "data": {
      "text/plain": [
       "4"
      ]
     },
     "metadata": {},
     "output_type": "display_data"
    }
   ],
   "source": [
    "lowers :: String -> Int\n",
    "lowers s = sum [1 | c <- s, c >= 'a' && c <= 'z']\n",
    "\n",
    "count :: Char -> String -> Int\n",
    "count c cs = sum [1 | c' <- cs, c' == c]\n",
    "\n",
    "lowers \"Haskell\"\n",
    "count 's' \"Mississippi\""
   ]
  },
  {
   "cell_type": "markdown",
   "id": "perfect-scott",
   "metadata": {},
   "source": [
    "## シーザー暗号"
   ]
  },
  {
   "cell_type": "code",
   "execution_count": 20,
   "id": "isolated-dallas",
   "metadata": {},
   "outputs": [],
   "source": [
    "import Data.Char"
   ]
  },
  {
   "cell_type": "code",
   "execution_count": 21,
   "id": "mobile-invitation",
   "metadata": {},
   "outputs": [
    {
     "data": {
      "text/plain": [
       "0"
      ]
     },
     "metadata": {},
     "output_type": "display_data"
    },
    {
     "data": {
      "text/plain": [
       "'a'"
      ]
     },
     "metadata": {},
     "output_type": "display_data"
    },
    {
     "data": {
      "text/plain": [
       "'}'"
      ]
     },
     "metadata": {},
     "output_type": "display_data"
    },
    {
     "data": {
      "text/plain": [
       "True"
      ]
     },
     "metadata": {},
     "output_type": "display_data"
    }
   ],
   "source": [
    "let2int :: Char -> Int\n",
    "let2int c = ord c - ord 'a'\n",
    "\n",
    "int2let :: Int -> Char\n",
    "int2let n = chr (ord 'a' + n)\n",
    "\n",
    "let2int 'a'\n",
    "int2let 0\n",
    "int2let 28\n",
    "[int2let (let2int c) | c <- ['a'..'z']] == ['a'..'z'] "
   ]
  },
  {
   "cell_type": "code",
   "execution_count": 22,
   "id": "international-laugh",
   "metadata": {},
   "outputs": [
    {
     "data": {
      "text/plain": [
       "'d'"
      ]
     },
     "metadata": {},
     "output_type": "display_data"
    },
    {
     "data": {
      "text/plain": [
       "'c'"
      ]
     },
     "metadata": {},
     "output_type": "display_data"
    },
    {
     "data": {
      "text/plain": [
       "'z'"
      ]
     },
     "metadata": {},
     "output_type": "display_data"
    },
    {
     "data": {
      "text/plain": [
       "' '"
      ]
     },
     "metadata": {},
     "output_type": "display_data"
    }
   ],
   "source": [
    "shift :: Int -> Char -> Char\n",
    "shift n c | isLower c = int2let (mod (let2int c + n) 26)\n",
    "          | otherwise = c\n",
    "\n",
    "shift 3 'a'\n",
    "shift 3 'z'\n",
    "shift (-3) 'c'\n",
    "shift 3 ' '"
   ]
  },
  {
   "cell_type": "code",
   "execution_count": 23,
   "id": "earned-mirror",
   "metadata": {},
   "outputs": [
    {
     "data": {
      "text/plain": [
       "\"kdvnhoo lv ixq\""
      ]
     },
     "metadata": {},
     "output_type": "display_data"
    },
    {
     "data": {
      "text/plain": [
       "\"haskell is fun\""
      ]
     },
     "metadata": {},
     "output_type": "display_data"
    }
   ],
   "source": [
    "encode :: Int -> String -> String\n",
    "encode n xs = [shift n x | x <- xs]\n",
    "encode 3 \"haskell is fun\"\n",
    "encode (-3) \"kdvnhoo lv ixq\""
   ]
  },
  {
   "cell_type": "code",
   "execution_count": 24,
   "id": "noted-plenty",
   "metadata": {},
   "outputs": [
    {
     "data": {
      "text/plain": [
       "33.333336"
      ]
     },
     "metadata": {},
     "output_type": "display_data"
    }
   ],
   "source": [
    "percent :: Int -> Int -> Float\n",
    "percent n m = (fromIntegral n / fromIntegral m) * 100\n",
    "percent 5 15"
   ]
  },
  {
   "cell_type": "code",
   "execution_count": 25,
   "id": "dietary-courage",
   "metadata": {},
   "outputs": [
    {
     "data": {
      "text/plain": [
       "[6.666667,13.333334,20.0,26.666668,33.333336,0.0,0.0,0.0,0.0,0.0,0.0,0.0,0.0,0.0,0.0,0.0,0.0,0.0,0.0,0.0,0.0,0.0,0.0,0.0,0.0,0.0]"
      ]
     },
     "metadata": {},
     "output_type": "display_data"
    }
   ],
   "source": [
    "freqs :: String -> [Float]\n",
    "freqs xs = [percent (count x xs) n | x <- ['a'..'z']]\n",
    "    where n = lowers xs\n",
    "    \n",
    "freqs \"abbcccddddeeeee\""
   ]
  },
  {
   "cell_type": "code",
   "execution_count": 26,
   "id": "warming-hunger",
   "metadata": {},
   "outputs": [
    {
     "data": {
      "text/plain": [
       "[4,5,1,2,3]"
      ]
     },
     "metadata": {},
     "output_type": "display_data"
    }
   ],
   "source": [
    "chisqr :: [Float] -> [Float] -> Float\n",
    "chisqr xs ys = sum [(x - y)^2 / y | (x, y) <- zip xs ys]\n",
    "\n",
    "rotate :: Int -> [a] -> [a]\n",
    "rotate n xs = drop n xs ++ take n xs\n",
    "rotate 3 [1, 2, 3, 4, 5]"
   ]
  },
  {
   "cell_type": "code",
   "execution_count": 27,
   "id": "otherwise-girlfriend",
   "metadata": {},
   "outputs": [
    {
     "data": {
      "text/plain": [
       "[1408.8524,640.0218,612.3969,202.42024,1439.9456,4247.318,650.9992,1164.7708,972.1826,993.1813,497.46844,1488.8606,2296.3413,1407.4161,1491.524,3033.984,659.5394,2836.3345,984.7049,809.6876,1310.4423,850.64154,2908.0313,954.4321,5313.5776,626.4024]"
      ]
     },
     "metadata": {},
     "output_type": "display_data"
    }
   ],
   "source": [
    "table = [8.1, 1.5, 2.8, 4.2, 12.7, 2.2, 2.0, 6.1, 7.0, 0.2, 0.8, 4.0, 2.4, 6.7, 7.5, 1.9, 0.1, 6.0, 6.3, 9.0, 2.8, 1.0, 2.4, 0.2, 2.0, 0.1]\n",
    "table' = freqs \"kdvnhoo lv ixq\"\n",
    "[chisqr (rotate n table') table | n <- [0..25]]"
   ]
  },
  {
   "cell_type": "code",
   "execution_count": 28,
   "id": "needed-amazon",
   "metadata": {},
   "outputs": [
    {
     "data": {
      "text/plain": [
       "\"haskell is fun\""
      ]
     },
     "metadata": {},
     "output_type": "display_data"
    },
    {
     "data": {
      "text/plain": [
       "\"list comprehensions are useful\""
      ]
     },
     "metadata": {},
     "output_type": "display_data"
    }
   ],
   "source": [
    "crack :: String -> String\n",
    "crack xs = encode (-factor) xs\n",
    "    where\n",
    "        factor = head (positions (minimum chitab) chitab)\n",
    "        chitab = [chisqr (rotate n table') table | n <- [0..25]]\n",
    "        table' = freqs xs\n",
    "\n",
    "crack \"kdvnhoo lv ixq\"\n",
    "crack \"vscd mywzboroxcsyxc kbo ecopev\""
   ]
  },
  {
   "cell_type": "code",
   "execution_count": 29,
   "id": "bottom-booth",
   "metadata": {},
   "outputs": [
    {
     "data": {
      "text/plain": [
       "\"piasmtt\""
      ]
     },
     "metadata": {},
     "output_type": "display_data"
    },
    {
     "data": {
      "text/plain": [
       "\"wjsdib rduvmyn ephk lpdxfgt\""
      ]
     },
     "metadata": {},
     "output_type": "display_data"
    }
   ],
   "source": [
    "crack (encode 3 \"haskell\")\n",
    "crack (encode 3 \"boxing wizards jump quickly\")"
   ]
  },
  {
   "cell_type": "code",
   "execution_count": null,
   "id": "humanitarian-rugby",
   "metadata": {},
   "outputs": [],
   "source": []
  },
  {
   "cell_type": "markdown",
   "id": "sophisticated-federal",
   "metadata": {},
   "source": [
    "# exercise"
   ]
  },
  {
   "cell_type": "markdown",
   "id": "unlike-runner",
   "metadata": {},
   "source": [
    "## 1"
   ]
  },
  {
   "cell_type": "code",
   "execution_count": 30,
   "id": "answering-theorem",
   "metadata": {},
   "outputs": [
    {
     "data": {
      "text/plain": [
       "338350"
      ]
     },
     "metadata": {},
     "output_type": "display_data"
    }
   ],
   "source": [
    "sum [x^2 | x <- [1..100]]"
   ]
  },
  {
   "cell_type": "markdown",
   "id": "deluxe-cancer",
   "metadata": {},
   "source": [
    "## 2"
   ]
  },
  {
   "cell_type": "code",
   "execution_count": 31,
   "id": "signed-stockholm",
   "metadata": {},
   "outputs": [
    {
     "data": {
      "text/plain": [
       "[(0,0),(0,1),(0,2),(1,0),(1,1),(1,2)]"
      ]
     },
     "metadata": {},
     "output_type": "display_data"
    }
   ],
   "source": [
    "grid :: Int -> Int -> [(Int, Int)]\n",
    "grid n m = [(x, y) | x <- [0..n], y <- [0..m]]\n",
    "grid 1 2"
   ]
  },
  {
   "cell_type": "markdown",
   "id": "mounted-paradise",
   "metadata": {},
   "source": [
    "## 3"
   ]
  },
  {
   "cell_type": "code",
   "execution_count": 32,
   "id": "electoral-liver",
   "metadata": {},
   "outputs": [
    {
     "data": {
      "text/plain": [
       "[(0,1),(0,2),(1,0),(1,2),(2,0),(2,1)]"
      ]
     },
     "metadata": {},
     "output_type": "display_data"
    }
   ],
   "source": [
    "square :: Int -> [(Int, Int)]\n",
    "square n = [(x, y) | (x, y) <- grid n n, x /= y]\n",
    "square 2"
   ]
  },
  {
   "cell_type": "markdown",
   "id": "external-maria",
   "metadata": {},
   "source": [
    "## 4"
   ]
  },
  {
   "cell_type": "code",
   "execution_count": 33,
   "id": "historic-tower",
   "metadata": {},
   "outputs": [
    {
     "data": {
      "text/plain": [
       "[True,True,True]"
      ]
     },
     "metadata": {},
     "output_type": "display_data"
    }
   ],
   "source": [
    "replicate :: Int -> a -> [a]\n",
    "replicate n x = [x | _ <- [1..n]]\n",
    "replicate 3 True"
   ]
  },
  {
   "cell_type": "markdown",
   "id": "concrete-portuguese",
   "metadata": {},
   "source": [
    "## 5"
   ]
  },
  {
   "cell_type": "code",
   "execution_count": 34,
   "id": "distinguished-cemetery",
   "metadata": {},
   "outputs": [
    {
     "data": {
      "text/plain": [
       "[(3,4,5),(4,3,5),(6,8,10),(8,6,10)]"
      ]
     },
     "metadata": {},
     "output_type": "display_data"
    }
   ],
   "source": [
    "pyths :: Int -> [(Int, Int, Int)]\n",
    "pyths n = [(x, y, z) | x <- [1..n], y <- [1..n], z <- [1..n], z^2 == x^2 + y^2]\n",
    "pyths 10"
   ]
  },
  {
   "cell_type": "markdown",
   "id": "fossil-lease",
   "metadata": {},
   "source": [
    "## 6"
   ]
  },
  {
   "cell_type": "code",
   "execution_count": 35,
   "id": "bizarre-supplement",
   "metadata": {},
   "outputs": [
    {
     "data": {
      "text/plain": [
       "[6,28,496]"
      ]
     },
     "metadata": {},
     "output_type": "display_data"
    }
   ],
   "source": [
    "perfects :: Int -> [Int]\n",
    "perfects n = [x | x <- [1..n], sum (init (factors x)) == x]\n",
    "perfects 500"
   ]
  },
  {
   "cell_type": "markdown",
   "id": "rapid-lighter",
   "metadata": {},
   "source": [
    "## 7"
   ]
  },
  {
   "cell_type": "code",
   "execution_count": 36,
   "id": "satellite-lawrence",
   "metadata": {},
   "outputs": [
    {
     "data": {
      "text/plain": [
       "[(1,4),(1,5),(1,6),(2,4),(2,5),(2,6),(3,4),(3,5),(3,6)]"
      ]
     },
     "metadata": {},
     "output_type": "display_data"
    }
   ],
   "source": [
    "concat [[(x, y) | y <- [4, 5, 6]] | x <- [1, 2, 3]]"
   ]
  },
  {
   "cell_type": "markdown",
   "id": "generous-carnival",
   "metadata": {},
   "source": [
    "## 8"
   ]
  },
  {
   "cell_type": "code",
   "execution_count": 37,
   "id": "executed-mayor",
   "metadata": {},
   "outputs": [
    {
     "data": {
      "text/plain": [
       "[1,3]"
      ]
     },
     "metadata": {},
     "output_type": "display_data"
    }
   ],
   "source": [
    "positions2 :: Eq a => a -> [a] -> [Int]\n",
    "positions2 x xs = find x (zip xs [0..])\n",
    "positions2 True [False, True, False, True]"
   ]
  },
  {
   "cell_type": "markdown",
   "id": "annoying-karaoke",
   "metadata": {},
   "source": [
    "## 9"
   ]
  },
  {
   "cell_type": "code",
   "execution_count": 38,
   "id": "civil-pregnancy",
   "metadata": {},
   "outputs": [
    {
     "data": {
      "text/plain": [
       "32"
      ]
     },
     "metadata": {},
     "output_type": "display_data"
    }
   ],
   "source": [
    "scalarproduct :: [Int] -> [Int] -> Int\n",
    "scalarproduct xs ys = sum [x * y | (x, y) <- zip xs ys]\n",
    "scalarproduct [1, 2, 3] [4, 5, 6]"
   ]
  },
  {
   "cell_type": "markdown",
   "id": "selected-clark",
   "metadata": {},
   "source": [
    "## 10"
   ]
  },
  {
   "cell_type": "code",
   "execution_count": null,
   "id": "concerned-alpha",
   "metadata": {},
   "outputs": [],
   "source": []
  }
 ],
 "metadata": {
  "kernelspec": {
   "display_name": "Haskell",
   "language": "haskell",
   "name": "haskell"
  },
  "language_info": {
   "codemirror_mode": "ihaskell",
   "file_extension": ".hs",
   "mimetype": "text/x-haskell",
   "name": "haskell",
   "pygments_lexer": "Haskell",
   "version": "8.10.4"
  }
 },
 "nbformat": 4,
 "nbformat_minor": 5
}
