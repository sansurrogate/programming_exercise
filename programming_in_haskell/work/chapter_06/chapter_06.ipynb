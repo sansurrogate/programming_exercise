{
 "cells": [
  {
   "cell_type": "markdown",
   "id": "juvenile-maintenance",
   "metadata": {},
   "source": [
    "# 再帰関数"
   ]
  },
  {
   "cell_type": "code",
   "execution_count": 1,
   "id": "located-tsunami",
   "metadata": {},
   "outputs": [
    {
     "data": {
      "text/plain": [
       "120"
      ]
     },
     "metadata": {},
     "output_type": "display_data"
    }
   ],
   "source": [
    "fac :: Int -> Int\n",
    "fac 0 = 1\n",
    "fac n = n * fac (n-1)\n",
    "fac 5"
   ]
  },
  {
   "cell_type": "code",
   "execution_count": 2,
   "id": "controlling-lithuania",
   "metadata": {},
   "outputs": [
    {
     "data": {
      "text/html": [
       "<style>/* Styles used for the Hoogle display in the pager */\n",
       ".hoogle-doc {\n",
       "display: block;\n",
       "padding-bottom: 1.3em;\n",
       "padding-left: 0.4em;\n",
       "}\n",
       ".hoogle-code {\n",
       "display: block;\n",
       "font-family: monospace;\n",
       "white-space: pre;\n",
       "}\n",
       ".hoogle-text {\n",
       "display: block;\n",
       "}\n",
       ".hoogle-name {\n",
       "color: green;\n",
       "font-weight: bold;\n",
       "}\n",
       ".hoogle-head {\n",
       "font-weight: bold;\n",
       "}\n",
       ".hoogle-sub {\n",
       "display: block;\n",
       "margin-left: 0.4em;\n",
       "}\n",
       ".hoogle-package {\n",
       "font-weight: bold;\n",
       "font-style: italic;\n",
       "}\n",
       ".hoogle-module {\n",
       "font-weight: bold;\n",
       "}\n",
       ".hoogle-class {\n",
       "font-weight: bold;\n",
       "}\n",
       ".get-type {\n",
       "color: green;\n",
       "font-weight: bold;\n",
       "font-family: monospace;\n",
       "display: block;\n",
       "white-space: pre-wrap;\n",
       "}\n",
       ".show-type {\n",
       "color: green;\n",
       "font-weight: bold;\n",
       "font-family: monospace;\n",
       "margin-left: 1em;\n",
       "}\n",
       ".mono {\n",
       "font-family: monospace;\n",
       "display: block;\n",
       "}\n",
       ".err-msg {\n",
       "color: red;\n",
       "font-style: italic;\n",
       "font-family: monospace;\n",
       "white-space: pre;\n",
       "display: block;\n",
       "}\n",
       "#unshowable {\n",
       "color: red;\n",
       "font-weight: bold;\n",
       "}\n",
       ".err-msg.in.collapse {\n",
       "padding-top: 0.7em;\n",
       "}\n",
       ".highlight-code {\n",
       "white-space: pre;\n",
       "font-family: monospace;\n",
       "}\n",
       ".suggestion-warning { \n",
       "font-weight: bold;\n",
       "color: rgb(200, 130, 0);\n",
       "}\n",
       ".suggestion-error { \n",
       "font-weight: bold;\n",
       "color: red;\n",
       "}\n",
       ".suggestion-name {\n",
       "font-weight: bold;\n",
       "}\n",
       "</style><div class=\"suggestion-name\" style=\"clear:both;\">Use foldr</div><div class=\"suggestion-row\" style=\"float: left;\"><div class=\"suggestion-warning\">Found:</div><div class=\"highlight-code\" id=\"haskell\">product [] = 1\n",
       "product (n : ns) = n * product ns</div></div><div class=\"suggestion-row\" style=\"float: left;\"><div class=\"suggestion-warning\">Why Not:</div><div class=\"highlight-code\" id=\"haskell\">product ns = foldr (*) 1 ns</div></div>"
      ],
      "text/plain": [
       "Line 2: Use foldr\n",
       "Found:\n",
       "product [] = 1\n",
       "product (n : ns) = n * product ns\n",
       "Why not:\n",
       "product ns = foldr (*) 1 ns"
      ]
     },
     "metadata": {},
     "output_type": "display_data"
    },
    {
     "data": {
      "text/plain": [
       "120"
      ]
     },
     "metadata": {},
     "output_type": "display_data"
    }
   ],
   "source": [
    "product :: Num a => [a] -> a\n",
    "product [] = 1\n",
    "product (n:ns) = n * product ns\n",
    "product [1..5]"
   ]
  },
  {
   "cell_type": "code",
   "execution_count": 3,
   "id": "divine-feature",
   "metadata": {},
   "outputs": [
    {
     "data": {
      "text/plain": [
       "[1,2,3,4,5]"
      ]
     },
     "metadata": {},
     "output_type": "display_data"
    }
   ],
   "source": [
    "insert :: Ord a => a -> [a] -> [a]\n",
    "insert x [] = [x]\n",
    "insert x (y:ys) | x <= y = x:y:ys\n",
    "              | otherwise = y:insert x ys\n",
    "insert 3 [1, 2, 4, 5]"
   ]
  },
  {
   "cell_type": "code",
   "execution_count": 4,
   "id": "fabulous-seller",
   "metadata": {},
   "outputs": [
    {
     "data": {
      "text/html": [
       "<style>/* Styles used for the Hoogle display in the pager */\n",
       ".hoogle-doc {\n",
       "display: block;\n",
       "padding-bottom: 1.3em;\n",
       "padding-left: 0.4em;\n",
       "}\n",
       ".hoogle-code {\n",
       "display: block;\n",
       "font-family: monospace;\n",
       "white-space: pre;\n",
       "}\n",
       ".hoogle-text {\n",
       "display: block;\n",
       "}\n",
       ".hoogle-name {\n",
       "color: green;\n",
       "font-weight: bold;\n",
       "}\n",
       ".hoogle-head {\n",
       "font-weight: bold;\n",
       "}\n",
       ".hoogle-sub {\n",
       "display: block;\n",
       "margin-left: 0.4em;\n",
       "}\n",
       ".hoogle-package {\n",
       "font-weight: bold;\n",
       "font-style: italic;\n",
       "}\n",
       ".hoogle-module {\n",
       "font-weight: bold;\n",
       "}\n",
       ".hoogle-class {\n",
       "font-weight: bold;\n",
       "}\n",
       ".get-type {\n",
       "color: green;\n",
       "font-weight: bold;\n",
       "font-family: monospace;\n",
       "display: block;\n",
       "white-space: pre-wrap;\n",
       "}\n",
       ".show-type {\n",
       "color: green;\n",
       "font-weight: bold;\n",
       "font-family: monospace;\n",
       "margin-left: 1em;\n",
       "}\n",
       ".mono {\n",
       "font-family: monospace;\n",
       "display: block;\n",
       "}\n",
       ".err-msg {\n",
       "color: red;\n",
       "font-style: italic;\n",
       "font-family: monospace;\n",
       "white-space: pre;\n",
       "display: block;\n",
       "}\n",
       "#unshowable {\n",
       "color: red;\n",
       "font-weight: bold;\n",
       "}\n",
       ".err-msg.in.collapse {\n",
       "padding-top: 0.7em;\n",
       "}\n",
       ".highlight-code {\n",
       "white-space: pre;\n",
       "font-family: monospace;\n",
       "}\n",
       ".suggestion-warning { \n",
       "font-weight: bold;\n",
       "color: rgb(200, 130, 0);\n",
       "}\n",
       ".suggestion-error { \n",
       "font-weight: bold;\n",
       "color: red;\n",
       "}\n",
       ".suggestion-name {\n",
       "font-weight: bold;\n",
       "}\n",
       "</style><div class=\"suggestion-name\" style=\"clear:both;\">Use foldr</div><div class=\"suggestion-row\" style=\"float: left;\"><div class=\"suggestion-warning\">Found:</div><div class=\"highlight-code\" id=\"haskell\">isort [] = []\n",
       "isort (x : xs) = insert x (isort xs)</div></div><div class=\"suggestion-row\" style=\"float: left;\"><div class=\"suggestion-warning\">Why Not:</div><div class=\"highlight-code\" id=\"haskell\">isort xs = foldr insert [] xs</div></div>"
      ],
      "text/plain": [
       "Line 2: Use foldr\n",
       "Found:\n",
       "isort [] = []\n",
       "isort (x : xs) = insert x (isort xs)\n",
       "Why not:\n",
       "isort xs = foldr insert [] xs"
      ]
     },
     "metadata": {},
     "output_type": "display_data"
    },
    {
     "data": {
      "text/plain": [
       "[1,2,3,4]"
      ]
     },
     "metadata": {},
     "output_type": "display_data"
    }
   ],
   "source": [
    "isort :: Ord a => [a] -> [a]\n",
    "isort [] = []\n",
    "isort (x:xs) = insert x (isort xs)\n",
    "isort [3, 2, 1, 4]"
   ]
  },
  {
   "cell_type": "code",
   "execution_count": 5,
   "id": "tired-celebration",
   "metadata": {},
   "outputs": [
    {
     "data": {
      "text/plain": [
       "[(1,4),(2,5)]"
      ]
     },
     "metadata": {},
     "output_type": "display_data"
    }
   ],
   "source": [
    "zip :: [a] -> [b] -> [(a, b)]\n",
    "zip [] _ = []\n",
    "zip _ [] = []\n",
    "zip (x:xs) (y:ys) = (x, y):zip xs ys\n",
    "zip [1, 2, 3] [4, 5]"
   ]
  },
  {
   "cell_type": "code",
   "execution_count": 6,
   "id": "lasting-salad",
   "metadata": {},
   "outputs": [
    {
     "data": {
      "text/plain": [
       "[4,5]"
      ]
     },
     "metadata": {},
     "output_type": "display_data"
    }
   ],
   "source": [
    "drop :: Int -> [a] -> [a]\n",
    "drop 0 xs = xs\n",
    "drop _ [] = []\n",
    "drop n (_:xs) = drop (n-1) xs\n",
    "drop 3 [1..5]"
   ]
  },
  {
   "cell_type": "code",
   "execution_count": 7,
   "id": "comprehensive-maintenance",
   "metadata": {},
   "outputs": [
    {
     "data": {
      "text/plain": [
       "55"
      ]
     },
     "metadata": {},
     "output_type": "display_data"
    }
   ],
   "source": [
    "fib :: Int -> Int\n",
    "fib 0 = 0\n",
    "fib 1 = 1\n",
    "fib n = fib (n - 1) + fib (n - 2)\n",
    "fib 10"
   ]
  },
  {
   "cell_type": "code",
   "execution_count": 8,
   "id": "better-lesson",
   "metadata": {},
   "outputs": [
    {
     "data": {
      "text/plain": [
       "[1,2,3,4,5]"
      ]
     },
     "metadata": {},
     "output_type": "display_data"
    }
   ],
   "source": [
    "qsort :: Ord a => [a] -> [a]\n",
    "qsort [] = []\n",
    "qsort (x:xs) = qsort [a | a <- xs, a <= x] ++ [x] ++ qsort [b | b <- xs, b > x]\n",
    "qsort [5, 1, 3, 2, 4]"
   ]
  },
  {
   "cell_type": "code",
   "execution_count": 9,
   "id": "ultimate-large",
   "metadata": {},
   "outputs": [
    {
     "data": {
      "text/plain": [
       "True"
      ]
     },
     "metadata": {},
     "output_type": "display_data"
    },
    {
     "data": {
      "text/plain": [
       "False"
      ]
     },
     "metadata": {},
     "output_type": "display_data"
    }
   ],
   "source": [
    "even :: Int -> Bool\n",
    "even 0 = True\n",
    "even n = odd (n-1)\n",
    "\n",
    "odd :: Int -> Bool\n",
    "odd 0 = False\n",
    "odd n = even (n-1)\n",
    "\n",
    "even 10\n",
    "odd 10"
   ]
  },
  {
   "cell_type": "code",
   "execution_count": 10,
   "id": "particular-generic",
   "metadata": {},
   "outputs": [
    {
     "data": {
      "text/plain": [
       "[0,2,4]"
      ]
     },
     "metadata": {},
     "output_type": "display_data"
    },
    {
     "data": {
      "text/plain": [
       "[1,3,5]"
      ]
     },
     "metadata": {},
     "output_type": "display_data"
    }
   ],
   "source": [
    "evens :: [a] -> [a]\n",
    "evens [] = []\n",
    "evens (x:xs) = x:odds xs\n",
    "\n",
    "odds :: [a] -> [a]\n",
    "odds [] = []\n",
    "odds (_:xs) = evens xs\n",
    "\n",
    "evens [0..5]\n",
    "odds [0..5]"
   ]
  },
  {
   "cell_type": "markdown",
   "id": "editorial-pipeline",
   "metadata": {},
   "source": [
    "# exercise"
   ]
  },
  {
   "cell_type": "markdown",
   "id": "nearby-yield",
   "metadata": {},
   "source": [
    "## 1"
   ]
  },
  {
   "cell_type": "code",
   "execution_count": 11,
   "id": "connected-inspiration",
   "metadata": {},
   "outputs": [
    {
     "data": {
      "text/plain": [
       "6"
      ]
     },
     "metadata": {},
     "output_type": "display_data"
    },
    {
     "ename": "",
     "evalue": "",
     "output_type": "error",
     "traceback": [
      "<interactive>:(2,1)-(3,33): Non-exhaustive patterns in function fac2"
     ]
    }
   ],
   "source": [
    "-- prodは-1を与えた場合、無限ループに陥る\n",
    "fac2 :: Int -> Int\n",
    "fac2 n | n == 0 = 1\n",
    "       | n > 0 = n * fac2 (n - 1)\n",
    "fac2 3\n",
    "fac2 (-1)"
   ]
  },
  {
   "cell_type": "markdown",
   "id": "unknown-number",
   "metadata": {},
   "source": [
    "## 2"
   ]
  },
  {
   "cell_type": "code",
   "execution_count": 12,
   "id": "surprised-crash",
   "metadata": {},
   "outputs": [
    {
     "data": {
      "text/plain": [
       "6"
      ]
     },
     "metadata": {},
     "output_type": "display_data"
    }
   ],
   "source": [
    "sumdown :: Int -> Int\n",
    "sumdown 0 = 0\n",
    "sumdown n = n + sumdown (n - 1)\n",
    "sumdown 3"
   ]
  },
  {
   "cell_type": "markdown",
   "id": "dense-tolerance",
   "metadata": {},
   "source": [
    "## 3"
   ]
  },
  {
   "cell_type": "code",
   "execution_count": 13,
   "id": "terminal-giant",
   "metadata": {},
   "outputs": [
    {
     "data": {
      "text/plain": [
       "8"
      ]
     },
     "metadata": {},
     "output_type": "display_data"
    },
    {
     "data": {
      "text/plain": [
       "1"
      ]
     },
     "metadata": {},
     "output_type": "display_data"
    },
    {
     "data": {
      "text/plain": [
       "0"
      ]
     },
     "metadata": {},
     "output_type": "display_data"
    },
    {
     "data": {
      "text/plain": [
       "1"
      ]
     },
     "metadata": {},
     "output_type": "display_data"
    }
   ],
   "source": [
    "(^) :: Int -> Int -> Int\n",
    "(^) _ 0 = 1\n",
    "(^) 0 _ = 0\n",
    "(^) x y = x * (x ^ (y - 1))\n",
    "\n",
    "2 ^ 3\n",
    "2 ^ 0\n",
    "0 ^ 1\n",
    "0 ^ 0"
   ]
  },
  {
   "cell_type": "markdown",
   "id": "loved-handle",
   "metadata": {},
   "source": [
    "## 4"
   ]
  },
  {
   "cell_type": "code",
   "execution_count": 14,
   "id": "conscious-penny",
   "metadata": {},
   "outputs": [
    {
     "data": {
      "text/plain": [
       "3"
      ]
     },
     "metadata": {},
     "output_type": "display_data"
    }
   ],
   "source": [
    "euclid :: Int -> Int -> Int\n",
    "euclid x y | x == y = x\n",
    "           | otherwise = euclid (l - s) s\n",
    "               where\n",
    "                   l = max x y\n",
    "                   s = min x y\n",
    "euclid 6 27"
   ]
  },
  {
   "cell_type": "markdown",
   "id": "governing-window",
   "metadata": {},
   "source": [
    "## 6"
   ]
  },
  {
   "cell_type": "code",
   "execution_count": 15,
   "id": "inside-story",
   "metadata": {},
   "outputs": [
    {
     "data": {
      "text/html": [
       "<style>/* Styles used for the Hoogle display in the pager */\n",
       ".hoogle-doc {\n",
       "display: block;\n",
       "padding-bottom: 1.3em;\n",
       "padding-left: 0.4em;\n",
       "}\n",
       ".hoogle-code {\n",
       "display: block;\n",
       "font-family: monospace;\n",
       "white-space: pre;\n",
       "}\n",
       ".hoogle-text {\n",
       "display: block;\n",
       "}\n",
       ".hoogle-name {\n",
       "color: green;\n",
       "font-weight: bold;\n",
       "}\n",
       ".hoogle-head {\n",
       "font-weight: bold;\n",
       "}\n",
       ".hoogle-sub {\n",
       "display: block;\n",
       "margin-left: 0.4em;\n",
       "}\n",
       ".hoogle-package {\n",
       "font-weight: bold;\n",
       "font-style: italic;\n",
       "}\n",
       ".hoogle-module {\n",
       "font-weight: bold;\n",
       "}\n",
       ".hoogle-class {\n",
       "font-weight: bold;\n",
       "}\n",
       ".get-type {\n",
       "color: green;\n",
       "font-weight: bold;\n",
       "font-family: monospace;\n",
       "display: block;\n",
       "white-space: pre-wrap;\n",
       "}\n",
       ".show-type {\n",
       "color: green;\n",
       "font-weight: bold;\n",
       "font-family: monospace;\n",
       "margin-left: 1em;\n",
       "}\n",
       ".mono {\n",
       "font-family: monospace;\n",
       "display: block;\n",
       "}\n",
       ".err-msg {\n",
       "color: red;\n",
       "font-style: italic;\n",
       "font-family: monospace;\n",
       "white-space: pre;\n",
       "display: block;\n",
       "}\n",
       "#unshowable {\n",
       "color: red;\n",
       "font-weight: bold;\n",
       "}\n",
       ".err-msg.in.collapse {\n",
       "padding-top: 0.7em;\n",
       "}\n",
       ".highlight-code {\n",
       "white-space: pre;\n",
       "font-family: monospace;\n",
       "}\n",
       ".suggestion-warning { \n",
       "font-weight: bold;\n",
       "color: rgb(200, 130, 0);\n",
       "}\n",
       ".suggestion-error { \n",
       "font-weight: bold;\n",
       "color: red;\n",
       "}\n",
       ".suggestion-name {\n",
       "font-weight: bold;\n",
       "}\n",
       "</style><div class=\"suggestion-name\" style=\"clear:both;\">Use foldr</div><div class=\"suggestion-row\" style=\"float: left;\"><div class=\"suggestion-warning\">Found:</div><div class=\"highlight-code\" id=\"haskell\">concat [] = []\n",
       "concat (xs : xss) = xs ++ concat xss</div></div><div class=\"suggestion-row\" style=\"float: left;\"><div class=\"suggestion-warning\">Why Not:</div><div class=\"highlight-code\" id=\"haskell\">concat xss = foldr (++) [] xss</div></div>"
      ],
      "text/plain": [
       "Line 8: Use foldr\n",
       "Found:\n",
       "concat [] = []\n",
       "concat (xs : xss) = xs ++ concat xss\n",
       "Why not:\n",
       "concat xss = foldr (++) [] xss"
      ]
     },
     "metadata": {},
     "output_type": "display_data"
    }
   ],
   "source": [
    "-- a\n",
    "and :: [Bool] -> Bool\n",
    "and [True] = True\n",
    "and (x:xs) = x && and xs\n",
    "\n",
    "-- b\n",
    "concat :: [[a]] -> [a]\n",
    "concat [] = []\n",
    "concat (xs:xss) = xs ++ concat xss\n",
    "\n",
    "-- c\n",
    "replicate :: Int -> a -> [a]\n",
    "replicate 0 _ = []\n",
    "replicate n x = x:replicate (n-1) x\n",
    "\n",
    "-- d\n",
    "(!!) :: [a] -> Int -> a\n",
    "(!!) (x:xs) 1 = x\n",
    "(!!) (_:xs) n = xs !! (n - 1)\n",
    "\n",
    "-- e\n",
    "elem :: Eq a => a -> [a] -> Bool\n",
    "elem _ [] = False\n",
    "elem a (x:xs) = (a == x) || elem a xs\n"
   ]
  },
  {
   "cell_type": "markdown",
   "id": "extra-symposium",
   "metadata": {},
   "source": [
    "## 7"
   ]
  },
  {
   "cell_type": "code",
   "execution_count": 16,
   "id": "refined-classification",
   "metadata": {},
   "outputs": [
    {
     "data": {
      "text/plain": [
       "[1,2,3,4,5,6]"
      ]
     },
     "metadata": {},
     "output_type": "display_data"
    }
   ],
   "source": [
    "merge :: Ord a => [a] -> [a] -> [a]\n",
    "merge [] [] = []\n",
    "merge xs [] = xs\n",
    "merge [] ys = ys\n",
    "merge (x:xs) (y:ys) | x <= y = x:merge xs (y:ys)\n",
    "                    | x > y = y:merge (x:xs) ys\n",
    "\n",
    "merge [2, 5, 6] [1, 3, 4]"
   ]
  },
  {
   "cell_type": "markdown",
   "id": "civic-dream",
   "metadata": {},
   "source": [
    "## 8"
   ]
  },
  {
   "cell_type": "code",
   "execution_count": 17,
   "id": "filled-mentor",
   "metadata": {},
   "outputs": [
    {
     "data": {
      "text/plain": [
       "([1,2,3,4,5],[6,7,8,9,10,11])"
      ]
     },
     "metadata": {},
     "output_type": "display_data"
    },
    {
     "data": {
      "text/plain": [
       "[1,2,5,6,7,8,9]"
      ]
     },
     "metadata": {},
     "output_type": "display_data"
    }
   ],
   "source": [
    "halve :: [a] -> ([a], [a])\n",
    "halve xs = splitAt n xs\n",
    "    where\n",
    "        n = length xs `div` 2\n",
    "\n",
    "halve [1..11]\n",
    "\n",
    "msort :: Ord a => [a] -> [a]\n",
    "msort [] = []\n",
    "msort [x] = [x]\n",
    "msort xs = merge (msort ys) (msort zs)\n",
    "    where\n",
    "        (ys, zs) = halve xs\n",
    "\n",
    "msort [8, 6, 1, 2, 5, 9, 7]"
   ]
  },
  {
   "cell_type": "markdown",
   "id": "established-indication",
   "metadata": {},
   "source": [
    "## 9"
   ]
  },
  {
   "cell_type": "code",
   "execution_count": 18,
   "id": "shaped-zealand",
   "metadata": {},
   "outputs": [
    {
     "data": {
      "text/html": [
       "<style>/* Styles used for the Hoogle display in the pager */\n",
       ".hoogle-doc {\n",
       "display: block;\n",
       "padding-bottom: 1.3em;\n",
       "padding-left: 0.4em;\n",
       "}\n",
       ".hoogle-code {\n",
       "display: block;\n",
       "font-family: monospace;\n",
       "white-space: pre;\n",
       "}\n",
       ".hoogle-text {\n",
       "display: block;\n",
       "}\n",
       ".hoogle-name {\n",
       "color: green;\n",
       "font-weight: bold;\n",
       "}\n",
       ".hoogle-head {\n",
       "font-weight: bold;\n",
       "}\n",
       ".hoogle-sub {\n",
       "display: block;\n",
       "margin-left: 0.4em;\n",
       "}\n",
       ".hoogle-package {\n",
       "font-weight: bold;\n",
       "font-style: italic;\n",
       "}\n",
       ".hoogle-module {\n",
       "font-weight: bold;\n",
       "}\n",
       ".hoogle-class {\n",
       "font-weight: bold;\n",
       "}\n",
       ".get-type {\n",
       "color: green;\n",
       "font-weight: bold;\n",
       "font-family: monospace;\n",
       "display: block;\n",
       "white-space: pre-wrap;\n",
       "}\n",
       ".show-type {\n",
       "color: green;\n",
       "font-weight: bold;\n",
       "font-family: monospace;\n",
       "margin-left: 1em;\n",
       "}\n",
       ".mono {\n",
       "font-family: monospace;\n",
       "display: block;\n",
       "}\n",
       ".err-msg {\n",
       "color: red;\n",
       "font-style: italic;\n",
       "font-family: monospace;\n",
       "white-space: pre;\n",
       "display: block;\n",
       "}\n",
       "#unshowable {\n",
       "color: red;\n",
       "font-weight: bold;\n",
       "}\n",
       ".err-msg.in.collapse {\n",
       "padding-top: 0.7em;\n",
       "}\n",
       ".highlight-code {\n",
       "white-space: pre;\n",
       "font-family: monospace;\n",
       "}\n",
       ".suggestion-warning { \n",
       "font-weight: bold;\n",
       "color: rgb(200, 130, 0);\n",
       "}\n",
       ".suggestion-error { \n",
       "font-weight: bold;\n",
       "color: red;\n",
       "}\n",
       ".suggestion-name {\n",
       "font-weight: bold;\n",
       "}\n",
       "</style><div class=\"suggestion-name\" style=\"clear:both;\">Use foldr</div><div class=\"suggestion-row\" style=\"float: left;\"><div class=\"suggestion-warning\">Found:</div><div class=\"highlight-code\" id=\"haskell\">sum [] = 0\n",
       "sum (x : xs) = x + sum xs</div></div><div class=\"suggestion-row\" style=\"float: left;\"><div class=\"suggestion-warning\">Why Not:</div><div class=\"highlight-code\" id=\"haskell\">sum xs = foldr (+) 0 xs</div></div>"
      ],
      "text/plain": [
       "Line 3: Use foldr\n",
       "Found:\n",
       "sum [] = 0\n",
       "sum (x : xs) = x + sum xs\n",
       "Why not:\n",
       "sum xs = foldr (+) 0 xs"
      ]
     },
     "metadata": {},
     "output_type": "display_data"
    },
    {
     "data": {
      "text/plain": [
       "True"
      ]
     },
     "metadata": {},
     "output_type": "display_data"
    },
    {
     "data": {
      "text/plain": [
       "[1,2,3]"
      ]
     },
     "metadata": {},
     "output_type": "display_data"
    },
    {
     "data": {
      "text/plain": [
       "100"
      ]
     },
     "metadata": {},
     "output_type": "display_data"
    }
   ],
   "source": [
    "-- a\n",
    "sum :: Num a => [a] -> a\n",
    "sum [] = 0\n",
    "sum (x:xs) = x + sum xs\n",
    "\n",
    "-- b\n",
    "take :: Int -> [a] -> [a]\n",
    "take 0 _ = []\n",
    "take n [] = []\n",
    "take n (x:xs) = x:take (n-1) xs\n",
    "\n",
    "-- c\n",
    "last :: [a] -> a\n",
    "last [x] = x\n",
    "last (_:xs) = last xs\n",
    "\n",
    "sum [1..50] == 51 * 25\n",
    "take 3 [1..5]\n",
    "last [1..100]"
   ]
  },
  {
   "cell_type": "code",
   "execution_count": null,
   "id": "ordered-dover",
   "metadata": {},
   "outputs": [],
   "source": []
  }
 ],
 "metadata": {
  "kernelspec": {
   "display_name": "Haskell",
   "language": "haskell",
   "name": "haskell"
  },
  "language_info": {
   "codemirror_mode": "ihaskell",
   "file_extension": ".hs",
   "mimetype": "text/x-haskell",
   "name": "haskell",
   "pygments_lexer": "Haskell",
   "version": "8.10.4"
  }
 },
 "nbformat": 4,
 "nbformat_minor": 5
}
